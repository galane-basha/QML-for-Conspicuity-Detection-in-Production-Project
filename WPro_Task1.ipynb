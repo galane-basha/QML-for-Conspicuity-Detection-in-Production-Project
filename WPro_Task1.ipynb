{
 "cells": [
  {
   "cell_type": "markdown",
   "id": "163bbd6a",
   "metadata": {},
   "source": [
    "# Task 1: \n",
    "\n",
    "\n",
    "This work is a report for the code implementation for the first 3 sections in PennyLane Codebook. \n",
    "Ref: https://pennylane.ai/codebook/\n"
   ]
  },
  {
   "cell_type": "markdown",
   "id": "9343b83a",
   "metadata": {},
   "source": [
    "# Section 1: Introduction to Quantum Computing\n",
    "\n"
   ]
  },
  {
   "cell_type": "code",
   "execution_count": 11,
   "id": "28c1a1dc",
   "metadata": {},
   "outputs": [
    {
     "data": {
      "text/html": [
       "<img src=\"task1_section1.png\" width=\"1000\" height=\"1000\"/>"
      ],
      "text/plain": [
       "<IPython.core.display.Image object>"
      ]
     },
     "execution_count": 11,
     "metadata": {},
     "output_type": "execute_result"
    }
   ],
   "source": [
    "from IPython.display import Image \n",
    "Image(url=\"task1_section1.png\", width=1000, height=1000) \n"
   ]
  },
  {
   "cell_type": "markdown",
   "id": "fba699d6",
   "metadata": {},
   "source": [
    "## 1.1, All about qubits\n",
    "\n",
    "\n",
    "### Normalization of Quantum States\n",
    "\n",
    "I learned the importance of normalizing the quantum states. This ensures that the sum of the squares of their amplitudes equals 1. Which represents the probability distribution of measurement outcomes. I implemented the code to normalize a given quantum state.\n",
    "\n",
    "\n",
    "### Inner Product and Orthonormal Basis\n",
    "\n",
    "I explored the concept of the inner product, which measures how \"aligned\" two quantum states are. This is crucial for verifying whether states are orthonormal. I implemented the inner_product function to calculate this, which helped me understand that states like $∣0⟩$ and $∣1⟩$ form an orthonormal basis.\n",
    "\n",
    "\n",
    "### Sampling Measurement Outcomes\n",
    "\n",
    "Another key concept I learned about quantum measurement. It is when the result of measuring a qubit is not certain but based on probability. The chances of each possible result come from the square of the numbers in the state vector. I wrote some code to simulate these measurements, and it showed me how probability works in quantum computing.\n",
    "\n",
    "### Applying a Quantum Operation\n",
    "\n",
    "Learnt about the representation of quantum operations. These operations are represented by unitary matrices which are useful to preserve the normalization of quantum states.\n",
    "\n",
    "### A Simple Quantum Algorithm\n",
    "\n",
    "Finally, I brought everything together to simulate a simple quantum algorithm. I initialized a qubit in the state $∣0⟩$, applied a unitary operation and measured the output state multiple times. This exercise tied together everything I learned about."
   ]
  },
  {
   "cell_type": "markdown",
   "id": "ad257dfb",
   "metadata": {},
   "source": [
    "## 1.2, Quantum Circuits\n",
    "\n",
    "\n",
    "\n",
    "### Order of Operations\n",
    "I practiced arranging quantum gates in the correct order to match a given quantum circuit. This involved understanding the sequence of operations and their impact on the quantum state. \n",
    "\n",
    "### Building a QNode and The QNode decorators \n",
    "I learned how to build a QNode and convert quantum circuits into QNodes using both the qml.QNode function and decorators. The QNodes allow me to run circuits on quantum devices and simulate their behavior. \n",
    "\n",
    "### Circuit Depth and Optimization\n",
    "I explored the concept of circuit depth. Which is the number of layers or time steps required to execute a quantum circuit if done in parallel. "
   ]
  },
  {
   "cell_type": "markdown",
   "id": "6f060dbc",
   "metadata": {},
   "source": [
    "## 1.3, Unitary Matrices\n",
    "\n",
    "\n",
    "\n",
    "### Unitaries in PennyLane\n",
    "\n",
    "QubitUnitary Gate: I used the qml.QubitUnitary operation to apply a unitary matrix directly to a qubit. This allowed me to implement complex quantum operations without manually handling matrix arithmetic, simplifying the process of applying transformations to qubits. I explored the mathematical structure of unitary matrices, which preserve the normalization of qubit states. This section reinforced the concept that any matrix operating on qubits must be unitary to maintain valid quantum states.\n",
    "\n",
    "### Parametrized Unitaries\n",
    "\n",
    "Rot Gate: I learned about parametrized unitary operations, specifically the qml.Rot gate, which represents a general single-qubit unitary operation using three real parameters. By applying this gate, I could manipulate qubit states based on these parameters and return the resulting quantum state vector. Through exercises, I discovered that despite the apparent complexity of unitary matrices, they can be represented with only three real numbers due to their inherent properties. This insight helps simplify how we express and understand quantum operations.\n"
   ]
  },
  {
   "cell_type": "markdown",
   "id": "745e4161",
   "metadata": {},
   "source": [
    "# Section 2: Single-Qubit Gates\n",
    "\n"
   ]
  },
  {
   "cell_type": "code",
   "execution_count": 9,
   "id": "51fba634",
   "metadata": {},
   "outputs": [
    {
     "data": {
      "text/html": [
       "<img src=\"task1_section2.png\" width=\"1000\" height=\"1000\"/>"
      ],
      "text/plain": [
       "<IPython.core.display.Image object>"
      ]
     },
     "execution_count": 9,
     "metadata": {},
     "output_type": "execute_result"
    }
   ],
   "source": [
    "from IPython.display import Image \n",
    "Image(url=\"task1_section2.png\", width=1000, height=1000) \n"
   ]
  },
  {
   "cell_type": "markdown",
   "id": "a0c65951",
   "metadata": {},
   "source": [
    "## 2.1, X and H\n",
    "\n",
    "\n",
    "### Flipping Bits\n",
    "\n",
    "The Pauli-X gate (quantum NOT gate), flips the state of a qubit from $∣0⟩$ to $∣1⟩$ or vice versa. I used this gate to initialize a qubit in the $∣1⟩$ state when needed, based on an input flag.\n",
    "\n",
    "\n",
    "### Uniform Superposition\n",
    "\n",
    "The Hadamard gate is crucial for creating superpositions. When applied to a qubit in state ∣0⟩∣0⟩, it transforms the qubit into an equal superposition of $∣0⟩$ to $∣1⟩$. Applying it to $∣1⟩$ results in a similar superposition but with different phase characteristics.\n",
    "\n",
    "\n",
    "### Combining X and H\n",
    "\n",
    "HXH Circuit: I combined the Hadamard and Pauli-X gates in a sequence (HXH circuit) to observe their combined effect on qubit states. This helped me understand the cumulative impact of these operations and their matrix representations.\n",
    "\n"
   ]
  },
  {
   "cell_type": "markdown",
   "id": "91868e10",
   "metadata": {},
   "source": [
    "## 2.2, It's Just a Phase\n",
    "\n",
    "\n",
    "### The Pauli-Z Gate\n",
    "\n",
    "The Pauli-Z gate introduces a phase shift to the qubit state. When applied to the $∣+⟩$ state it flips the relative phase resulting in the $∣−⟩$ state. I wrote a QNode to apply the Pauli-Z gate to the $∣+⟩$ state and observed the resulting quantum state.\n",
    "\n",
    "### The Z Rotation\n",
    "\n",
    "The RZ gate is a parametrized phase shift gate that rotates the qubit around the Z-axis by a specified angle. I simulated the action of a Pauli-Z gate using an RZ gate with an angle of $π$, demonstrating how these gates can produce similar effects on qubit states.\n",
    "\n",
    "### The S and T Gates\n",
    "\n",
    "The quarter-turn (S) and eighth-turn (T) gates introduce specific phase shifts of $π/2$ and $π/4$ respectively. These gates are useful for controlled phase adjustments in quantum circuits. I learned how to apply adjoint (inverse) gates using the qml.adjoint function, allowing me to reverse the effect of certain gates in a circuit. I implemented a circuit that combined the Hadamard, S, T-dagger (T adjoint), and RZ gates. This exercise helped me understand how different phase shifts interact and how to manipulate them in quantum circuits.\n",
    "\n"
   ]
  },
  {
   "cell_type": "markdown",
   "id": "83f76bda",
   "metadata": {},
   "source": [
    "## 2.3, From a Different Angle\n",
    "\n",
    "\n",
    "### Applying RX\n",
    "\n",
    "The RX gate rotates a qubit state around the X-axis of the Bloch sphere by a specified angle. I implemented a QNode that applied the RX gate with an angle of $π$ to different basis states ($∣0⟩$ and $∣1⟩$). And observed how this rotation affects the qubit's state.\n",
    "\n",
    "### RY Gate\n",
    "\n",
    "The RY gate rotates a qubit around the Y-axis of the Bloch sphere. Similar to the RX gate, I wrote a QNode to apply the RY gate with varying angles and observed the resulting state transformations.By analyzing the amplitudes after applying the RY gate, I could start deducing its matrix form, seeing how it shifts the qubit's state along the Y-axis.\n",
    "\n",
    "Amplitude Plots: I plotted the amplitudes of the qubit states after applying the RX and RY gates over a range of angles, which helped me visualize how these rotations affect the state on the Bloch sphere.\n",
    "\n"
   ]
  },
  {
   "cell_type": "markdown",
   "id": "8fb6159b",
   "metadata": {},
   "source": [
    "## 2.4, Universal Gate Sets\n",
    "\n",
    "\n",
    "\n",
    "### Universality of Rotations\n",
    "    \n",
    "Rot Gate and Decomposition: The qml.Rot gate can be decomposed into a sequence of RZ and RY gates. This demonstrates that RZ and RY (or similarly, RZ and RX) together form a universal gate set for single-qubit operations.\n",
    "\n",
    "Hadamard Gate Approximation: I learned how to approximate a Hadamard gate using a combination of RZ and RX gates, showing that different gate sets can achieve the same operation up to a global phase.\n",
    "Gate Decomposition: I practiced rewriting circuits using only RZ and RX gates, minimizing the number of gates required to perform a given operation, which is important for optimizing quantum circuits.\n",
    "\n",
    "### Synthesizing a Circuit\n",
    "\n",
    "H and T Gates as Universal Set: The H and T gates form a universal gate set. I used these gates to approximate specific unitary operations, illustrating their power in quantum circuit synthesis.\n",
    "Matrix Representation and Gate Synthesis: I explored how to represent and decompose single-qubit unitary matrices using combinations of basic gates from universal sets, understanding that any unitary operation can be synthesized with these gates to arbitrary precision.\n",
    "\n"
   ]
  },
  {
   "cell_type": "markdown",
   "id": "04f8c36e",
   "metadata": {},
   "source": [
    "## 2.5, Prepare Yourself\n",
    "\n",
    "### State Preparation\n",
    "\n",
    "I explored how to prepare a specific quantum state by applying a minimal sequence of single-qubit gates. The goal was to start with the default state $∣0⟩$ and transform it into the desired target state up to a global phase.\n",
    "\n",
    "Custom Circuits: I manually constructed circuits to prepare specific quantum states using combinations of gates like Hadamard, RY, and RZ. The focus was on using as few gates as possible to achieve the desired state.\n",
    "\n",
    "### Automated State Preparation\n",
    "\n",
    "I learned about PennyLane's built-in templates, such as MottonenStatePreparation, which can automatically prepare any normalized qubit state vector. This is particularly useful for more complex multi-qubit systems where manual state preparation would be challenging.\n",
    "I implemented a QNode that uses the MottonenStatePreparation template to prepare a given quantum state, and then inspected the underlying circuit using qml.draw to see the sequence of operations used.\n"
   ]
  },
  {
   "cell_type": "markdown",
   "id": "73bd8ac9",
   "metadata": {},
   "source": [
    "## 2.6, Measurements\n",
    "\n",
    "\n",
    "### Measuring a Superposition\n",
    "- **Default Measurement**: In quantum circuits, measurement typically occurs in the computational basis (standard basis \\(|0\\rangle\\) and \\(|1\\rangle\\)). The probabilities of these outcomes are directly related to the amplitudes of the qubit's state vector.\n",
    "- **Outcome Probabilities**: Instead of returning the quantum state vector, I learned to return the measurement outcome probabilities using `qml.probs(wires=1)`. This provides a clear understanding of the likelihood of each possible measurement result.\n",
    "\n",
    "### Y basis Rotation\n",
    "- **Superposition and Probabilities**: I implemented a circuit that applies a Hadamard gate to a qubit and then measures the outcome. Depending on whether the qubit starts in $|0>$ or $|1>$, the probabilities reflect the superposition created by the Hadamard gate.\n",
    "\n",
    "### Measurement in the Y basis\n",
    "- **Changing the Measurement Basis**: I explored how to measure quantum states in different bases, such as the Y-basis, by performing a basis rotation before measurement. This is done by applying specific gates that map the desired basis states back to the computational basis.I implemented functions to prepare a specific quantum state and then rotate it to the Y-basis for measurement. This demonstrated how different measurement bases can be accessed even if direct measurement in those bases is not available.\n",
    "\n"
   ]
  },
  {
   "cell_type": "markdown",
   "id": "6a2a31e5",
   "metadata": {},
   "source": [
    "## 2.7, What Did you Expect?\n",
    "\n",
    "\n",
    "### Measurement of the PauliY Observable\n",
    "\n",
    "In PennyLane, the expectation value of an observable (like PauliX, PauliY, or PauliZ) can be measured using `qml.expval`.  I practiced writing circuits that apply specific quantum gates to qubits and then measure the expectation value of an observable. For example, measuring the expectation value of PauliY after applying a series of gates.\n",
    "\n",
    "### Sampling and Shots\n",
    "Practically quantum circuits on actual hardware yield results that are probabilistic. To estimate the expectation values, we perform multiple measurements, called shots. The more shots taken, the more accurate the estimate of the expectation value.\n",
    "I explored how increasing the number of shots affects the accuracy and consistency of the measured expectation value. As the number of shots increases, the expectation value converges to the theoretical value with reduced variance.\n",
    "\n",
    "### Estimating Expectation Values from Samples\n",
    "Instead of directly computing the expectation value, I learned to return samples of measurement outcomes using `qml.sample` and then estimate the expectation value by averaging these samples. This approach follows how quantum hardware would operate, where each shot provides a single outcome. I conducted experiments to observe how the variance of the estimated expectation value scales with the number of shots. The results showed that increasing the number of shots reduces the variance, leading to more accurate estimates.\n",
    "\n"
   ]
  },
  {
   "cell_type": "markdown",
   "id": "69fce1ee",
   "metadata": {},
   "source": [
    "# Section 3: Circuits with Many Qubits\n",
    "\n"
   ]
  },
  {
   "cell_type": "code",
   "execution_count": 13,
   "id": "0742498b",
   "metadata": {},
   "outputs": [
    {
     "data": {
      "text/html": [
       "<img src=\"task1_section3.png\" width=\"1000\" height=\"1000\"/>"
      ],
      "text/plain": [
       "<IPython.core.display.Image object>"
      ]
     },
     "execution_count": 13,
     "metadata": {},
     "output_type": "execute_result"
    }
   ],
   "source": [
    "from IPython.display import Image \n",
    "Image(url=\"task1_section3.png\", width=1000, height=1000) "
   ]
  },
  {
   "cell_type": "markdown",
   "id": "054a7288",
   "metadata": {},
   "source": [
    "## 3.1, Multi-Qubit Systems\n",
    "\n",
    "\n",
    "### Preparing Basis States\n",
    "PennyLane orders qubits numerically from left to right, with the leftmost qubit at the top of the circuit. This is important to remember as different quantum computing frameworks might use different conventions.\n",
    "\n",
    "When working with multi-qubit systems, qubit states and operations are combined using the tensor product. This operation combines the Hilbert spaces of individual qubits to form a larger space that describes the entire system.\n",
    "\n",
    "### Multi-Qubit Basis States\n",
    "\n",
    "I learned how to create computational basis states for multi-qubit systems. For a 3-qubit system, for example, there are \\(2^3 = 8\\) possible basis states, each corresponding to a binary representation of integers from 0 to 7. I practiced writing circuits to prepare specific computational basis states based on a given integer input. The circuit sets the qubits to match the binary representation of the input.\n",
    "\n",
    "### Measuring Multi-Qubit Observables\n",
    "\n",
    "I measured expectation values of observables like PauliY and PauliZ on specific qubits within a multi-qubit system. This involved creating states such as $|+>$ and $|1>$, and then measuring different observables on each qubit.\n",
    "I combined observables using the tensor product to measure multi-qubit interactions. For instance, I used $qml.PauliZ(0) @ qml.PauliX(1)$ to measure the expectation value of a combined observable on a two-qubit system.\n",
    "\n",
    "\n",
    "I learned how to apply separable operations across multiple qubits in parallel. These operations can be represented as tensor products of single-qubit operations and can be implemented in quantum circuits where each layer applies a set of gates to different qubits.\n"
   ]
  },
  {
   "cell_type": "markdown",
   "id": "233a7bf9",
   "metadata": {},
   "source": [
    "## 3.2, All Tied Up\n",
    "\n",
    "\n",
    "### Entangling Operations (CNOT Gate)\n",
    "\n",
    "The CNOT gate is a fundamental two-qubit gate where the state of the target qubit is flipped if the control qubit is in the $|1>$ state. I practiced implementing a CNOT gate and explored its effect on all four computational basis states of a two-qubit system. The resulting truth table demonstrated how the CNOT gate changes the state based on the input qubits.\n",
    "\n",
    "### Bell State and Entanglement\n",
    "\n",
    "By applying a Hadamard gate followed by a CNOT gate, I created a Bell state, a maximally entangled state between two qubits. This exercise showed how specific sequences of gates can generate entanglement, which is crucial for quantum algorithms and protocols. The resulting Bell state was classified as \"entangled\" because the qubits' states are correlated in such a way that the state of one qubit cannot be described independently of the other.\n",
    "\n",
    "### Controlled Operations\n",
    "\n",
    "I explored other controlled operations like `qml.CRX`, `qml.CRY`, and `qml.CRZ`, which apply a rotation to the target qubit depending on the state of the control qubit. These operations generalize the concept of the CNOT gate and can create more complex entangled states.\n",
    "\n",
    "I implemented a circuit with controlled rotations on a three-qubit system, where each rotation depends on the state of a different control qubit. The circuit returned the measurement outcome probabilities, showing the impact of controlled operations on multi-qubit systems.\n",
    "\n"
   ]
  },
  {
   "cell_type": "markdown",
   "id": "b2b23a65",
   "metadata": {},
   "source": [
    "# 3.3, We've Got It Under Control\n",
    "\n",
    "\n",
    "\n",
    "### The imposter CZ\n",
    "\n",
    "The controlled-Z gate flips the phase of the target qubit if the control qubit is in the $|1>$ state. I implemented a CZ gate using a sequence of Hadamard and CNOT gates, revealing the relationship between these gates and how they can be used to construct a CZ operation.\n",
    "\n",
    "### The SWAP Gate\n",
    "\n",
    "The SWAP gate exchanges the states of two qubits. I learned to implement the SWAP gate using a sequence of three CNOT gates, demonstrating how basic two-qubit operations can be combined to perform more complex tasks.\n",
    "\n",
    "### The Toffoli Gate and Controlled SWAP\n",
    "\n",
    "The Toffoli gate is a three-qubit gate that flips the state of the target qubit only if both control qubits are in the $|1>$ state. I used the Toffoli gate to construct a controlled SWAP operation, which swaps two qubits' states based on the state of a control qubit.\n",
    "Fredkin Gate (Controlled SWAP) this operation conditionally swaps the states of two qubits based on the state of a control qubit. I implemented this gate using a sequence of Toffoli gates.\n",
    "\n",
    "### Mixed Controlled Gates\n",
    "\n",
    "This operation generalizes the concept of controlled gates to multiple control qubits, allowing more complex control logic in quantum circuits. I applied the MultiControlledX gate in a 4-qubit circuit, where the operation was conditioned on specific states of the control qubits.\n",
    "\n",
    "I learned how to use auxiliary qubits in multi-controlled operations to help implement complex gates like multi-controlled-NOTs using only Toffoli gates.\n",
    "\n"
   ]
  },
  {
   "cell_type": "markdown",
   "id": "98652394",
   "metadata": {},
   "source": [
    "## 3.4, Multi-Qubit Gate Challenge\n",
    "\n",
    "\n",
    "### Bell States \n",
    "\n",
    "The Bell states are a set of four maximally entangled two-qubit states. I learned to construct each of the four Bell states using a combination of Hadamard and CNOT gates. The states include:\n",
    "  - $|\\psi^+>$ = $\\frac{1}{\\sqrt{2}}$($|00>$ + $|11>$)\n",
    "  - $|\\psi^->$ = $\\frac{1}{\\sqrt{2}}$($|00>$ - $|11>$)\n",
    "  - $|\\phi^+>$= $\\frac{1}{\\sqrt{2}}$($|01>$ + $|10>$)\n",
    "  - $|\\phi^->$ = $\\frac{1}{\\sqrt{2}}$($|01>$ - $|10>$)\n",
    "\n",
    "I wrote separate circuits to prepare each Bell state, applying specific gate sequences to achieve the desired entangled states.\n",
    "\n",
    "### Quantum Multiplexer\n",
    "\n",
    "A multiplexer is a quantum circuit that applies different operations to a target qubit based on the states of control qubits. I implemented a 3-qubit circuit that performs specific operations on the third qubit depending on the states of the first two qubits:\n",
    "  - If the first two qubits are $|00>$, do nothing.\n",
    "  - If the first two qubits are $|01>$, apply Pauli-X to the third qubit.\n",
    "  - If the first two qubits are $|10>$, apply Pauli-Z to the third qubit.\n",
    "  - If the first two qubits are $|11>$, apply Pauli-Y to the third qubit.\n",
    "\n",
    "This type of multiplexer circuit can be generalized to uniformly control any single-qubit rotation based on the state of multiple control qubits.\n",
    "\n"
   ]
  }
 ],
 "metadata": {
  "kernelspec": {
   "display_name": "Python 3 (ipykernel)",
   "language": "python",
   "name": "python3"
  },
  "language_info": {
   "codemirror_mode": {
    "name": "ipython",
    "version": 3
   },
   "file_extension": ".py",
   "mimetype": "text/x-python",
   "name": "python",
   "nbconvert_exporter": "python",
   "pygments_lexer": "ipython3",
   "version": "3.11.5"
  }
 },
 "nbformat": 4,
 "nbformat_minor": 5
}
